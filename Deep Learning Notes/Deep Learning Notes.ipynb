{
  "cells": [
    {
      "cell_type": "markdown",
      "metadata": {
        "id": "view-in-github",
        "colab_type": "text"
      },
      "source": [
        "<a href=\"https://colab.research.google.com/github/YeabsiraNigusse/Deep_Learning/blob/main/Deep%20Learning%20Notes/Deep%20Learning%20Notes.ipynb\" target=\"_parent\"><img src=\"https://colab.research.google.com/assets/colab-badge.svg\" alt=\"Open In Colab\"/></a>"
      ]
    },
    {
      "cell_type": "markdown",
      "source": [
        "### Deep Learning Notes"
      ],
      "metadata": {
        "id": "2JwI9MqOVGG8"
      },
      "id": "2JwI9MqOVGG8"
    },
    {
      "cell_type": "code",
      "source": [],
      "metadata": {
        "id": "TwmyubSwVJnR"
      },
      "id": "TwmyubSwVJnR",
      "execution_count": null,
      "outputs": []
    }
  ],
  "metadata": {
    "colab": {
      "provenance": [],
      "include_colab_link": true
    }
  },
  "nbformat": 4,
  "nbformat_minor": 5
}